{
 "cells": [
  {
   "cell_type": "code",
   "execution_count": null,
   "metadata": {},
   "outputs": [],
   "source": [
    "#Загрузка файла с табличными данными\n",
    "!wget https://www.dropbox.com/s/2yjaru8mbkeynwe/dataset%20%283%29.csv?dl=1 -O dataset.csv"
   ]
  },
  {
   "cell_type": "code",
   "execution_count": 1,
   "metadata": {},
   "outputs": [],
   "source": [
    "#Импортирование необходимых библиотек для обработки и чтение файла с табличными данными\n",
    "import cv2\n",
    "import os\n",
    "import numpy as np\n",
    "import shutil\n",
    "import torch\n",
    "import zipfile\n",
    "import cv2\n",
    "import os\n",
    "import numpy as np\n",
    "import pandas as pd\n",
    "import datetime as dt\n",
    "dataset = pd.read_csv('dataset.csv')"
   ]
  },
  {
   "cell_type": "code",
   "execution_count": 2,
   "metadata": {},
   "outputs": [
    {
     "data": {
      "text/plain": [
       "Index(['video_id', 'video_duration', 'video_title', 'review', 'video',\n",
       "       'channel_founded', 'published_at', 'subcriber_count', 'view_count',\n",
       "       'like_count', 'dislike_count', 'favorite_count', 'comment_count',\n",
       "       'data_published_at_last_video', 'title_last_video', 'view_count_new'],\n",
       "      dtype='object')"
      ]
     },
     "execution_count": 2,
     "metadata": {},
     "output_type": "execute_result"
    }
   ],
   "source": [
    "dataset.columns"
   ]
  },
  {
   "cell_type": "code",
   "execution_count": 3,
   "metadata": {},
   "outputs": [],
   "source": [
    "#Обработка временных показателей даты загрузки видео на видеохостинг и даты создания канала.\n",
    "dataset['Time_cur'] = pd.to_datetime(dataset['published_at'])\n",
    "dataset['published_hour_cur'] = dataset['Time_cur'].dt.hour\n",
    "dataset['Weekday_cur'] = dataset['Time_cur'].dt.weekday\n",
    "diff = dt.datetime.now() - dataset['Time_cur']\n",
    "dataset['Published_cur_time'] = (dt.datetime.now() - dataset['Time_cur']).dt.total_seconds()\n",
    "dataset  = dataset.drop(['Time_cur', 'published_at'], axis=1)\n",
    "dataset['channel_founded'] = pd.to_datetime(dataset['channel_founded'])\n",
    "diff = dt.datetime.now() - dataset['channel_founded']\n",
    "dataset['channel_founded'] = diff.dt.total_seconds()"
   ]
  },
  {
   "cell_type": "code",
   "execution_count": 4,
   "metadata": {},
   "outputs": [
    {
     "name": "stderr",
     "output_type": "stream",
     "text": [
      "/anaconda/envs/py37_default/lib/python3.7/site-packages/ipykernel_launcher.py:3: SettingWithCopyWarning: \n",
      "A value is trying to be set on a copy of a slice from a DataFrame\n",
      "\n",
      "See the caveats in the documentation: https://pandas.pydata.org/pandas-docs/stable/user_guide/indexing.html#returning-a-view-versus-a-copy\n",
      "  This is separate from the ipykernel package so we can avoid doing imports until\n"
     ]
    }
   ],
   "source": [
    "# Деление видео на классы популярных и непопулярных\n",
    "dataset['popular'] = 0.0\n",
    "dataset['popular'][dataset.view_count_new.gt(dataset.view_count_new.quantile(0.8))] = 1.0"
   ]
  },
  {
   "cell_type": "code",
   "execution_count": 5,
   "metadata": {},
   "outputs": [],
   "source": [
    "# Обработка категориальных признаков(день недели и час публикации видео) при помощи one hot encoder.\n",
    "from sklearn.preprocessing import OneHotEncoder\n",
    "dataset = pd.get_dummies(dataset, columns=['published_hour_cur', 'Weekday_cur'], prefix=[\"published_hour\", \"Weekday_cur\"] )"
   ]
  },
  {
   "cell_type": "code",
   "execution_count": 6,
   "metadata": {},
   "outputs": [],
   "source": [
    "# Приминение нормализации к вещественным признакам, которые используются для классификации видео.\n",
    "from sklearn.preprocessing import StandardScaler\n",
    "dataset_norm = dataset[['channel_founded', 'subcriber_count', 'view_count', 'like_count', 'dislike_count', 'favorite_count', 'comment_count',  'Published_cur_time' ]]\n",
    "dataset_norm  = dataset_norm.values\n",
    "scaler = StandardScaler()\n",
    "dataset_norm = scaler.fit_transform(dataset_norm)\n",
    "dataset[['channel_founded', 'subcriber_count', 'view_count', 'like_count', 'dislike_count', 'favorite_count', 'comment_count',  'Published_cur_time' ]] = dataset_norm \n",
    "\n",
    "\n",
    "\n",
    "\n",
    "\n"
   ]
  },
  {
   "cell_type": "code",
   "execution_count": 7,
   "metadata": {},
   "outputs": [],
   "source": [
    "#Разбиение набора данных на обучающую, валидационную и тестовую выборку по времени публикации видео."
   ]
  },
  {
   "cell_type": "code",
   "execution_count": 8,
   "metadata": {},
   "outputs": [],
   "source": [
    "train_ids = int(0.8*len(dataset))\n",
    "val_ids = int(0.8*len(dataset)) + int(0.1*len(dataset))\n",
    "train = dataset[:train_ids]\n",
    "val = dataset[train_ids:val_ids]\n",
    "test = dataset[val_ids:len(dataset)]"
   ]
  },
  {
   "cell_type": "code",
   "execution_count": 9,
   "metadata": {},
   "outputs": [
    {
     "name": "stdout",
     "output_type": "stream",
     "text": [
      "Requirement already satisfied: xgboost in /anaconda/envs/py37_default/lib/python3.7/site-packages/xgboost-0.90-py3.7.egg (0.90)\r\n",
      "Requirement already satisfied: numpy in /anaconda/envs/py37_default/lib/python3.7/site-packages (from xgboost) (1.18.1)\r\n",
      "Requirement already satisfied: scipy in /anaconda/envs/py37_default/lib/python3.7/site-packages (from xgboost) (1.4.1)\r\n"
     ]
    }
   ],
   "source": [
    "!pip install xgboost"
   ]
  },
  {
   "cell_type": "code",
   "execution_count": 10,
   "metadata": {},
   "outputs": [],
   "source": [
    "train_numerical = train[['channel_founded', 'subcriber_count', 'view_count', 'like_count','dislike_count', 'comment_count', 'Published_cur_time']]\n",
    "train_categorical = train[['published_hour_0', 'published_hour_1', 'published_hour_2',\n",
    "       'published_hour_3', 'published_hour_4', 'published_hour_5',\n",
    "       'published_hour_6', 'published_hour_7', 'published_hour_8',\n",
    "       'published_hour_9', 'published_hour_10', 'published_hour_11',\n",
    "       'published_hour_12', 'published_hour_13', 'published_hour_14',\n",
    "       'published_hour_15', 'published_hour_16', 'published_hour_17',\n",
    "       'published_hour_18', 'published_hour_19', 'published_hour_20',\n",
    "       'published_hour_21', 'published_hour_22', 'published_hour_23',\n",
    "       'Weekday_cur_0', 'Weekday_cur_1', 'Weekday_cur_2', 'Weekday_cur_3',\n",
    "       'Weekday_cur_4', 'Weekday_cur_5', 'Weekday_cur_6']]\n",
    "train_target = train[['popular']]"
   ]
  },
  {
   "cell_type": "code",
   "execution_count": 11,
   "metadata": {},
   "outputs": [],
   "source": [
    "val_numerical = val[['channel_founded', 'subcriber_count', 'view_count', 'like_count','dislike_count', 'comment_count', 'Published_cur_time']]\n",
    "val_categorical = val[['published_hour_0', 'published_hour_1', 'published_hour_2',\n",
    "       'published_hour_3', 'published_hour_4', 'published_hour_5',\n",
    "       'published_hour_6', 'published_hour_7', 'published_hour_8',\n",
    "       'published_hour_9', 'published_hour_10', 'published_hour_11',\n",
    "       'published_hour_12', 'published_hour_13', 'published_hour_14',\n",
    "       'published_hour_15', 'published_hour_16', 'published_hour_17',\n",
    "       'published_hour_18', 'published_hour_19', 'published_hour_20',\n",
    "       'published_hour_21', 'published_hour_22', 'published_hour_23',\n",
    "       'Weekday_cur_0', 'Weekday_cur_1', 'Weekday_cur_2', 'Weekday_cur_3',\n",
    "       'Weekday_cur_4', 'Weekday_cur_5', 'Weekday_cur_6']]\n",
    "val_target = val[['popular']].values"
   ]
  },
  {
   "cell_type": "code",
   "execution_count": 12,
   "metadata": {},
   "outputs": [],
   "source": [
    "test_numerical = val[['channel_founded', 'subcriber_count', 'view_count', 'like_count','dislike_count', 'comment_count', 'Published_cur_time']]\n",
    "test_categorical = val[['published_hour_0', 'published_hour_1', 'published_hour_2',\n",
    "       'published_hour_3', 'published_hour_4', 'published_hour_5',\n",
    "       'published_hour_6', 'published_hour_7', 'published_hour_8',\n",
    "       'published_hour_9', 'published_hour_10', 'published_hour_11',\n",
    "       'published_hour_12', 'published_hour_13', 'published_hour_14',\n",
    "       'published_hour_15', 'published_hour_16', 'published_hour_17',\n",
    "       'published_hour_18', 'published_hour_19', 'published_hour_20',\n",
    "       'published_hour_21', 'published_hour_22', 'published_hour_23',\n",
    "       'Weekday_cur_0', 'Weekday_cur_1', 'Weekday_cur_2', 'Weekday_cur_3',\n",
    "       'Weekday_cur_4', 'Weekday_cur_5', 'Weekday_cur_6']]\n",
    "test_target = val[['popular']].values"
   ]
  },
  {
   "cell_type": "code",
   "execution_count": 14,
   "metadata": {},
   "outputs": [],
   "source": [
    "train_numerical = train_numerical.rename(columns={\"view_count\": \"view_count_prev\", \"like_count\": \"like_count_prev\", \"dislike_count\":\"dislike_count_prev\", \"comment_count\":\"comment_count_prev\" })"
   ]
  },
  {
   "cell_type": "code",
   "execution_count": 15,
   "metadata": {},
   "outputs": [],
   "source": [
    "val_numerical = val_numerical.rename(columns={\"view_count\": \"view_count_prev\", \"like_count\": \"like_count_prev\", \"dislike_count\":\"dislike_count_prev\", \"comment_count\":\"comment_count_prev\" })"
   ]
  },
  {
   "cell_type": "code",
   "execution_count": 16,
   "metadata": {},
   "outputs": [],
   "source": [
    "test_numerical = test_numerical.rename(columns={\"view_count\": \"view_count_prev\", \"like_count\": \"like_count_prev\", \"dislike_count\":\"dislike_count_prev\", \"comment_count\":\"comment_count_prev\" })"
   ]
  },
  {
   "cell_type": "code",
   "execution_count": 17,
   "metadata": {},
   "outputs": [],
   "source": [
    "train_boost = [train_numerical, train_categorical]\n",
    "train_boost = pd.concat(train_boost, axis = 1)"
   ]
  },
  {
   "cell_type": "code",
   "execution_count": 18,
   "metadata": {},
   "outputs": [
    {
     "data": {
      "text/plain": [
       "GradientBoostingClassifier(ccp_alpha=0.0, criterion='friedman_mse', init=None,\n",
       "                           learning_rate=0.1, loss='deviance', max_depth=3,\n",
       "                           max_features=None, max_leaf_nodes=None,\n",
       "                           min_impurity_decrease=0.0, min_impurity_split=None,\n",
       "                           min_samples_leaf=1, min_samples_split=2,\n",
       "                           min_weight_fraction_leaf=0.0, n_estimators=100,\n",
       "                           n_iter_no_change=None, presort='deprecated',\n",
       "                           random_state=0, subsample=1.0, tol=0.0001,\n",
       "                           validation_fraction=0.1, verbose=0,\n",
       "                           warm_start=False)"
      ]
     },
     "execution_count": 18,
     "metadata": {},
     "output_type": "execute_result"
    }
   ],
   "source": [
    "from sklearn.ensemble import GradientBoostingClassifier\n",
    "clf =  GradientBoostingClassifier(random_state=0)\n",
    "clf.fit(train_boost, train_target.values.ravel())"
   ]
  },
  {
   "cell_type": "code",
   "execution_count": 19,
   "metadata": {},
   "outputs": [],
   "source": [
    "val_boost = [val_numerical, val_categorical]\n",
    "val_boost = pd.concat(val_boost, axis = 1)"
   ]
  },
  {
   "cell_type": "code",
   "execution_count": 20,
   "metadata": {},
   "outputs": [],
   "source": [
    "feature_importance = clf.feature_importances_"
   ]
  },
  {
   "cell_type": "code",
   "execution_count": 22,
   "metadata": {},
   "outputs": [
    {
     "data": {
      "image/png": "[encoded data removed]",
      "text/plain": [
       "<Figure size 864x432 with 2 Axes>"
      ]
     },
     "metadata": {
      "needs_background": "light"
     },
     "output_type": "display_data"
    }
   ],
   "source": [
    "import matplotlib.pyplot as plt\n",
    "from sklearn.inspection import permutation_importance\n",
    "sorted_idx = np.argsort(feature_importance)\n",
    "pos = np.arange(10) + .5\n",
    "fig = plt.figure(figsize=(12, 6))\n",
    "plt.subplot(1, 2, 1)\n",
    "plt.barh(pos, feature_importance[sorted_idx][-10:], align='center')\n",
    "plt.yticks(pos, np.array(train_boost.columns)[sorted_idx][-10:])\n",
    "plt.title('Feature Importance')\n",
    "\n",
    "result = permutation_importance(clf, val_boost, val_target, n_repeats=10,\n",
    "                                random_state=42, n_jobs=2)\n",
    "sorted_idx = result.importances_mean.argsort()\n",
    "plt.subplot(1, 2, 2)\n",
    "plt.boxplot(result.importances[sorted_idx][-10:].T,\n",
    "            vert=False, labels=np.array(val_boost.columns)[sorted_idx][-10:])\n",
    "plt.title(\"Permutation Importance (test set)\")\n",
    "fig.tight_layout()\n",
    "plt.show()"
   ]
  },
  {
   "cell_type": "code",
   "execution_count": 23,
   "metadata": {},
   "outputs": [],
   "source": [
    "res = clf.predict_proba(val_boost)"
   ]
  },
  {
   "cell_type": "code",
   "execution_count": 24,
   "metadata": {},
   "outputs": [],
   "source": [
    "res = res[:,1]"
   ]
  },
  {
   "cell_type": "markdown",
   "metadata": {},
   "source": [
    "# Gradboost experiments"
   ]
  },
  {
   "cell_type": "code",
   "execution_count": 27,
   "metadata": {},
   "outputs": [],
   "source": [
    "test_boost = [test_numerical, test_categorical]\n",
    "test_boost = pd.concat(test_boost, axis = 1)"
   ]
  },
  {
   "cell_type": "code",
   "execution_count": 28,
   "metadata": {},
   "outputs": [
    {
     "data": {
      "text/plain": [
       "GradientBoostingClassifier(ccp_alpha=0.0, criterion='friedman_mse', init=None,\n",
       "                           learning_rate=0.1, loss='deviance', max_depth=3,\n",
       "                           max_features=None, max_leaf_nodes=None,\n",
       "                           min_impurity_decrease=0.0, min_impurity_split=None,\n",
       "                           min_samples_leaf=1, min_samples_split=2,\n",
       "                           min_weight_fraction_leaf=0.0, n_estimators=100,\n",
       "                           n_iter_no_change=None, presort='deprecated',\n",
       "                           random_state=None, subsample=1.0, tol=0.0001,\n",
       "                           validation_fraction=0.1, verbose=0,\n",
       "                           warm_start=False)"
      ]
     },
     "execution_count": 28,
     "metadata": {},
     "output_type": "execute_result"
    }
   ],
   "source": [
    "#lr = 0.1\n",
    "#n_est = 100\n",
    "#max_depth = 3\n",
    "clf =  GradientBoostingClassifier(learning_rate=0.1, n_estimators=100, max_depth=3)\n",
    "clf.fit(train_boost, train_target.values.ravel())\n"
   ]
  },
  {
   "cell_type": "code",
   "execution_count": 29,
   "metadata": {},
   "outputs": [],
   "source": [
    "res = clf.predict_proba(val_boost)"
   ]
  },
  {
   "cell_type": "code",
   "execution_count": 30,
   "metadata": {},
   "outputs": [],
   "source": [
    "def binary_acc(y_pred, y_test, thresh):\n",
    "    y_pred_tag = (y_pred>thresh).astype(int)\n",
    "    print(y_pred_tag.shape, y_test.shape)\n",
    "    correct_results_sum = (y_pred_tag == y_test.squeeze()).sum()\n",
    "    print(correct_results_sum)\n",
    "    acc = correct_results_sum/y_test.shape[0]\n",
    "    acc = acc.item()\n",
    "    return acc"
   ]
  },
  {
   "cell_type": "code",
   "execution_count": 31,
   "metadata": {},
   "outputs": [],
   "source": [
    "from sklearn.metrics import roc_auc_score\n",
    "from sklearn.metrics import precision_score\n",
    "from sklearn.metrics import recall_score\n",
    "prec = precision_score(val_target.squeeze().astype(int), np.round(res[:,1]))\n",
    "rec = recall_score(val_target.squeeze().astype(int), np.round(res[:,1]))\n",
    "roc_auc = roc_auc_score(val_target.squeeze().astype(int), np.round(res[:,1]))"
   ]
  },
  {
   "cell_type": "code",
   "execution_count": 32,
   "metadata": {},
   "outputs": [
    {
     "name": "stdout",
     "output_type": "stream",
     "text": [
      "0.645\n",
      "0.5443037974683544\n",
      "0.7276098661118434\n"
     ]
    }
   ],
   "source": [
    "print(prec)\n",
    "print(rec)\n",
    "print(roc_auc)"
   ]
  },
  {
   "cell_type": "code",
   "execution_count": 33,
   "metadata": {},
   "outputs": [
    {
     "name": "stdout",
     "output_type": "stream",
     "text": [
      "(1034,) (1034,)\n",
      "855\n",
      "0.8268858800773694\n"
     ]
    }
   ],
   "source": [
    "print(binary_acc(np.round(res[:,1]), val_target.squeeze().astype(int), 0.5))"
   ]
  },
  {
   "cell_type": "code",
   "execution_count": 34,
   "metadata": {},
   "outputs": [],
   "source": [
    "res = clf.predict_proba(test_boost)"
   ]
  },
  {
   "cell_type": "code",
   "execution_count": 35,
   "metadata": {},
   "outputs": [],
   "source": [
    "from sklearn.metrics import roc_auc_score\n",
    "from sklearn.metrics import precision_score\n",
    "from sklearn.metrics import recall_score\n",
    "prec = precision_score(test_target.squeeze().astype(int), np.round(res[:,1]))\n",
    "rec = recall_score(test_target.squeeze().astype(int), np.round(res[:,1]))\n",
    "roc_auc = roc_auc_score(test_target.squeeze().astype(int), np.round(res[:,1]))"
   ]
  },
  {
   "cell_type": "code",
   "execution_count": 36,
   "metadata": {},
   "outputs": [
    {
     "name": "stdout",
     "output_type": "stream",
     "text": [
      "0.645\n",
      "0.5443037974683544\n",
      "0.7276098661118434\n"
     ]
    }
   ],
   "source": [
    "print(prec)\n",
    "print(rec)\n",
    "print(roc_auc)"
   ]
  },
  {
   "cell_type": "code",
   "execution_count": 37,
   "metadata": {},
   "outputs": [
    {
     "name": "stdout",
     "output_type": "stream",
     "text": [
      "(1034,) (1034,)\n",
      "855\n",
      "0.8268858800773694\n"
     ]
    }
   ],
   "source": [
    "print(binary_acc(np.round(res[:,1]), test_target.squeeze().astype(int), 0.5))"
   ]
  },
  {
   "cell_type": "code",
   "execution_count": 38,
   "metadata": {},
   "outputs": [
    {
     "data": {
      "text/plain": [
       "GradientBoostingClassifier(ccp_alpha=0.0, criterion='friedman_mse', init=None,\n",
       "                           learning_rate=0.1, loss='deviance', max_depth=3,\n",
       "                           max_features=None, max_leaf_nodes=None,\n",
       "                           min_impurity_decrease=0.0, min_impurity_split=None,\n",
       "                           min_samples_leaf=1, min_samples_split=2,\n",
       "                           min_weight_fraction_leaf=0.0, n_estimators=1000,\n",
       "                           n_iter_no_change=None, presort='deprecated',\n",
       "                           random_state=None, subsample=1.0, tol=0.0001,\n",
       "                           validation_fraction=0.1, verbose=0,\n",
       "                           warm_start=False)"
      ]
     },
     "execution_count": 38,
     "metadata": {},
     "output_type": "execute_result"
    }
   ],
   "source": [
    "#lr = 0.1\n",
    "#n_est = 1000\n",
    "#max_depth = 3\n",
    "clf =  GradientBoostingClassifier(learning_rate=0.1, n_estimators=1000, max_depth=3)\n",
    "clf.fit(train_boost, train_target.values.ravel())"
   ]
  },
  {
   "cell_type": "code",
   "execution_count": 39,
   "metadata": {},
   "outputs": [],
   "source": [
    "res = clf.predict_proba(val_boost)"
   ]
  },
  {
   "cell_type": "code",
   "execution_count": 40,
   "metadata": {},
   "outputs": [],
   "source": [
    "prec = precision_score(val_target.squeeze().astype(int), np.round(res[:,1]))\n",
    "rec = recall_score(val_target.squeeze().astype(int), np.round(res[:,1]))\n",
    "roc_auc = roc_auc_score(val_target.squeeze().astype(int), np.round(res[:,1]))"
   ]
  },
  {
   "cell_type": "code",
   "execution_count": 41,
   "metadata": {},
   "outputs": [
    {
     "name": "stdout",
     "output_type": "stream",
     "text": [
      "0.6\n",
      "0.5569620253164557\n",
      "0.7232739863094199\n"
     ]
    }
   ],
   "source": [
    "print(prec)\n",
    "print(rec)\n",
    "print(roc_auc)"
   ]
  },
  {
   "cell_type": "code",
   "execution_count": 42,
   "metadata": {},
   "outputs": [
    {
     "name": "stdout",
     "output_type": "stream",
     "text": [
      "(1034,) (1034,)\n",
      "841\n",
      "0.8133462282398453\n"
     ]
    }
   ],
   "source": [
    "print(binary_acc(np.round(res[:,1]), val_target.squeeze().astype(int), 0.5))"
   ]
  },
  {
   "cell_type": "code",
   "execution_count": 43,
   "metadata": {},
   "outputs": [],
   "source": [
    "res = clf.predict_proba(test_boost)"
   ]
  },
  {
   "cell_type": "code",
   "execution_count": 44,
   "metadata": {},
   "outputs": [],
   "source": [
    "prec = precision_score(test_target.squeeze().astype(int), np.round(res[:,1]))\n",
    "rec = recall_score(test_target.squeeze().astype(int), np.round(res[:,1]))\n",
    "roc_auc = roc_auc_score(test_target.squeeze().astype(int), np.round(res[:,1]))\n"
   ]
  },
  {
   "cell_type": "code",
   "execution_count": 45,
   "metadata": {},
   "outputs": [
    {
     "name": "stdout",
     "output_type": "stream",
     "text": [
      "0.6\n",
      "0.5569620253164557\n",
      "0.7232739863094199\n"
     ]
    }
   ],
   "source": [
    "print(prec)\n",
    "print(rec)\n",
    "print(roc_auc)"
   ]
  },
  {
   "cell_type": "code",
   "execution_count": 46,
   "metadata": {},
   "outputs": [
    {
     "name": "stdout",
     "output_type": "stream",
     "text": [
      "(1034,) (1034,)\n",
      "841\n",
      "0.8133462282398453\n"
     ]
    }
   ],
   "source": [
    "print(binary_acc(np.round(res[:,1]), test_target.squeeze().astype(int), 0.5))"
   ]
  },
  {
   "cell_type": "code",
   "execution_count": null,
   "metadata": {},
   "outputs": [],
   "source": [
    "#lr = 0.1\n",
    "#n_est = 100\n",
    "#max_depth = 3\n",
    "clf =  GradientBoostingClassifier(learning_rate=0.1, n_estimators=10000, max_depth=3)\n",
    "clf.fit(train_boost, train_target.values.ravel())"
   ]
  },
  {
   "cell_type": "code",
   "execution_count": null,
   "metadata": {},
   "outputs": [],
   "source": [
    "res = clf.predict_proba(val_boost)"
   ]
  },
  {
   "cell_type": "code",
   "execution_count": null,
   "metadata": {},
   "outputs": [],
   "source": [
    "prec = precision_score(val_target.squeeze().astype(int), np.round(res[:,1]))\n",
    "rec = recall_score(val_target.squeeze().astype(int), np.round(res[:,1]))\n",
    "roc_auc = roc_auc_score(val_target.squeeze().astype(int), np.round(res[:,1]))"
   ]
  },
  {
   "cell_type": "code",
   "execution_count": null,
   "metadata": {},
   "outputs": [],
   "source": [
    "print(prec)\n",
    "print(rec)\n",
    "print(roc_auc)"
   ]
  },
  {
   "cell_type": "code",
   "execution_count": null,
   "metadata": {},
   "outputs": [],
   "source": [
    "print(binary_acc(np.round(res[:,1]), val_target.squeeze().astype(int), 0.5))"
   ]
  },
  {
   "cell_type": "code",
   "execution_count": null,
   "metadata": {},
   "outputs": [],
   "source": [
    "res = clf.predict_proba(test_boost)"
   ]
  },
  {
   "cell_type": "code",
   "execution_count": null,
   "metadata": {},
   "outputs": [],
   "source": [
    "prec = precision_score(test_target.squeeze().astype(int), np.round(res[:,1]))\n",
    "rec = recall_score(test_target.squeeze().astype(int), np.round(res[:,1]))\n",
    "roc_auc = roc_auc_score(test_target.squeeze().astype(int), np.round(res[:,1]))"
   ]
  },
  {
   "cell_type": "code",
   "execution_count": null,
   "metadata": {},
   "outputs": [],
   "source": [
    "print(prec)\n",
    "print(rec)\n",
    "print(roc_auc)"
   ]
  },
  {
   "cell_type": "code",
   "execution_count": null,
   "metadata": {},
   "outputs": [],
   "source": [
    "print(binary_acc(np.round(res[:,1]), test_target.squeeze().astype(int), 0.5))"
   ]
  },
  {
   "cell_type": "code",
   "execution_count": null,
   "metadata": {},
   "outputs": [],
   "source": [
    "clf =  GradientBoostingClassifier(learning_rate=0.01, n_estimators=100, max_depth=3)\n",
    "clf.fit(train_boost, train_target.values.ravel())"
   ]
  },
  {
   "cell_type": "code",
   "execution_count": null,
   "metadata": {},
   "outputs": [],
   "source": [
    "res = clf.predict_proba(val_boost)"
   ]
  },
  {
   "cell_type": "code",
   "execution_count": null,
   "metadata": {},
   "outputs": [],
   "source": [
    "prec = precision_score(val_target.squeeze().astype(int), np.round(res[:,1]))\n",
    "rec = recall_score(val_target.squeeze().astype(int), np.round(res[:,1]))\n",
    "roc_auc = roc_auc_score(val_target.squeeze().astype(int), np.round(res[:,1]))"
   ]
  },
  {
   "cell_type": "code",
   "execution_count": null,
   "metadata": {},
   "outputs": [],
   "source": [
    "print(prec)\n",
    "print(rec)\n",
    "print(roc_auc)"
   ]
  },
  {
   "cell_type": "code",
   "execution_count": null,
   "metadata": {},
   "outputs": [],
   "source": [
    "print(binary_acc(np.round(res[:,1]), val_target.squeeze().astype(int), 0.5))"
   ]
  },
  {
   "cell_type": "code",
   "execution_count": null,
   "metadata": {},
   "outputs": [],
   "source": [
    "res = clf.predict_proba(test_boost)"
   ]
  },
  {
   "cell_type": "code",
   "execution_count": null,
   "metadata": {},
   "outputs": [],
   "source": [
    "prec = precision_score(test_target.squeeze().astype(int), np.round(res[:,1]))\n",
    "rec = recall_score(test_target.squeeze().astype(int), np.round(res[:,1]))\n",
    "roc_auc = roc_auc_score(test_target.squeeze().astype(int), np.round(res[:,1]))"
   ]
  },
  {
   "cell_type": "code",
   "execution_count": null,
   "metadata": {},
   "outputs": [],
   "source": [
    "print(prec)\n",
    "print(rec)\n",
    "print(roc_auc)"
   ]
  },
  {
   "cell_type": "code",
   "execution_count": null,
   "metadata": {},
   "outputs": [],
   "source": [
    "print(binary_acc(np.round(res[:,1]), test_target.squeeze().astype(int), 0.5))"
   ]
  },
  {
   "cell_type": "code",
   "execution_count": null,
   "metadata": {},
   "outputs": [],
   "source": [
    "clf =  GradientBoostingClassifier(learning_rate=0.001, n_estimators=100, max_depth=3)\n",
    "clf.fit(train_boost, train_target.values.ravel())"
   ]
  },
  {
   "cell_type": "code",
   "execution_count": null,
   "metadata": {},
   "outputs": [],
   "source": [
    "res = clf.predict_proba(val_boost)"
   ]
  },
  {
   "cell_type": "code",
   "execution_count": null,
   "metadata": {},
   "outputs": [],
   "source": [
    "prec = precision_score(val_target.squeeze().astype(int), np.round(res[:,1]))\n",
    "rec = recall_score(val_target.squeeze().astype(int), np.round(res[:,1]))\n",
    "roc_auc = roc_auc_score(val_target.squeeze().astype(int), np.round(res[:,1]))"
   ]
  },
  {
   "cell_type": "code",
   "execution_count": null,
   "metadata": {},
   "outputs": [],
   "source": [
    "print(prec)\n",
    "print(rec)\n",
    "print(roc_auc)"
   ]
  },
  {
   "cell_type": "code",
   "execution_count": null,
   "metadata": {},
   "outputs": [],
   "source": [
    "print(binary_acc(np.round(res[:,1]), val_target.squeeze().astype(int), 0.5))"
   ]
  },
  {
   "cell_type": "code",
   "execution_count": null,
   "metadata": {},
   "outputs": [],
   "source": [
    "res = clf.predict_proba(test_boost)"
   ]
  },
  {
   "cell_type": "code",
   "execution_count": null,
   "metadata": {},
   "outputs": [],
   "source": [
    "prec = precision_score(test_target.squeeze().astype(int), np.round(res[:,1]))\n",
    "rec = recall_score(test_target.squeeze().astype(int), np.round(res[:,1]))\n",
    "roc_auc = roc_auc_score(test_target.squeeze().astype(int), np.round(res[:,1]))"
   ]
  },
  {
   "cell_type": "code",
   "execution_count": null,
   "metadata": {},
   "outputs": [],
   "source": [
    "print(prec)\n",
    "print(rec)\n",
    "print(roc_auc)"
   ]
  },
  {
   "cell_type": "code",
   "execution_count": null,
   "metadata": {},
   "outputs": [],
   "source": [
    "print(binary_acc(np.round(res[:,1]), test_target.squeeze().astype(int), 0.5))"
   ]
  },
  {
   "cell_type": "code",
   "execution_count": null,
   "metadata": {},
   "outputs": [],
   "source": [
    "clf =  GradientBoostingClassifier(learning_rate=0.1, n_estimators=100, max_depth=4)\n",
    "clf.fit(train_boost, train_target.values.ravel())"
   ]
  },
  {
   "cell_type": "code",
   "execution_count": null,
   "metadata": {},
   "outputs": [],
   "source": [
    "res = clf.predict_proba(val_boost)"
   ]
  },
  {
   "cell_type": "code",
   "execution_count": null,
   "metadata": {},
   "outputs": [],
   "source": [
    "prec = precision_score(val_target.squeeze().astype(int), np.round(res[:,1]))\n",
    "rec = recall_score(val_target.squeeze().astype(int), np.round(res[:,1]))\n",
    "roc_auc = roc_auc_score(val_target.squeeze().astype(int), np.round(res[:,1]))"
   ]
  },
  {
   "cell_type": "code",
   "execution_count": null,
   "metadata": {},
   "outputs": [],
   "source": [
    "print(prec)\n",
    "print(rec)\n",
    "print(roc_auc)"
   ]
  },
  {
   "cell_type": "code",
   "execution_count": null,
   "metadata": {},
   "outputs": [],
   "source": [
    "print(binary_acc(np.round(res[:,1]), val_target.squeeze().astype(int), 0.5))"
   ]
  },
  {
   "cell_type": "code",
   "execution_count": null,
   "metadata": {},
   "outputs": [],
   "source": [
    "res = clf.predict_proba(test_boost)"
   ]
  },
  {
   "cell_type": "code",
   "execution_count": null,
   "metadata": {},
   "outputs": [],
   "source": [
    "prec = precision_score(test_target.squeeze().astype(int), np.round(res[:,1]))\n",
    "rec = recall_score(test_target.squeeze().astype(int), np.round(res[:,1]))\n",
    "roc_auc = roc_auc_score(test_target.squeeze().astype(int), np.round(res[:,1]))"
   ]
  },
  {
   "cell_type": "code",
   "execution_count": null,
   "metadata": {},
   "outputs": [],
   "source": [
    "print(prec)\n",
    "print(rec)\n",
    "print(roc_auc)"
   ]
  },
  {
   "cell_type": "code",
   "execution_count": null,
   "metadata": {},
   "outputs": [],
   "source": [
    "print(binary_acc(np.round(res[:,1]), test_target.squeeze().astype(int), 0.5))"
   ]
  },
  {
   "cell_type": "code",
   "execution_count": null,
   "metadata": {},
   "outputs": [],
   "source": []
  },
  {
   "cell_type": "code",
   "execution_count": null,
   "metadata": {},
   "outputs": [],
   "source": [
    "clf =  GradientBoostingClassifier(learning_rate=0.1, n_estimators=100, max_depth=1)\n",
    "clf.fit(train_boost, train_target.values.ravel())"
   ]
  },
  {
   "cell_type": "code",
   "execution_count": null,
   "metadata": {},
   "outputs": [],
   "source": [
    "res = clf.predict_proba(val_boost)"
   ]
  },
  {
   "cell_type": "code",
   "execution_count": null,
   "metadata": {},
   "outputs": [],
   "source": [
    "prec = precision_score(val_target.squeeze().astype(int), np.round(res[:,1]))\n",
    "rec = recall_score(val_target.squeeze().astype(int), np.round(res[:,1]))\n",
    "roc_auc = roc_auc_score(val_target.squeeze().astype(int), np.round(res[:,1]))"
   ]
  },
  {
   "cell_type": "code",
   "execution_count": null,
   "metadata": {},
   "outputs": [],
   "source": [
    "print(prec)\n",
    "print(rec)\n",
    "print(roc_auc)"
   ]
  },
  {
   "cell_type": "code",
   "execution_count": null,
   "metadata": {},
   "outputs": [],
   "source": [
    "print(binary_acc(np.round(res[:,1]), val_target.squeeze().astype(int), 0.5))"
   ]
  },
  {
   "cell_type": "code",
   "execution_count": null,
   "metadata": {},
   "outputs": [],
   "source": [
    "res = clf.predict_proba(test_boost)"
   ]
  },
  {
   "cell_type": "code",
   "execution_count": null,
   "metadata": {},
   "outputs": [],
   "source": [
    "prec = precision_score(test_target.squeeze().astype(int), np.round(res[:,1]))\n",
    "rec = recall_score(test_target.squeeze().astype(int), np.round(res[:,1]))\n",
    "roc_auc = roc_auc_score(test_target.squeeze().astype(int), np.round(res[:,1]))"
   ]
  },
  {
   "cell_type": "code",
   "execution_count": null,
   "metadata": {},
   "outputs": [],
   "source": [
    "print(prec)\n",
    "print(rec)\n",
    "print(roc_auc)"
   ]
  },
  {
   "cell_type": "code",
   "execution_count": null,
   "metadata": {},
   "outputs": [],
   "source": [
    "print(binary_acc(np.round(res[:,1]), test_target.squeeze().astype(int), 0.5))"
   ]
  },
  {
   "cell_type": "code",
   "execution_count": null,
   "metadata": {},
   "outputs": [],
   "source": [
    "clf =  GradientBoostingClassifier(learning_rate=0.1, n_estimators=100, max_depth=2)\n",
    "clf.fit(train_boost, train_target.values.ravel())"
   ]
  },
  {
   "cell_type": "code",
   "execution_count": null,
   "metadata": {},
   "outputs": [],
   "source": [
    "res = clf.predict_proba(val_boost)\n",
    "prec = precision_score(val_target.squeeze().astype(int), np.round(res[:,1]))\n",
    "rec = recall_score(val_target.squeeze().astype(int), np.round(res[:,1]))\n",
    "roc_auc = roc_auc_score(val_target.squeeze().astype(int), np.round(res[:,1]))"
   ]
  },
  {
   "cell_type": "code",
   "execution_count": null,
   "metadata": {},
   "outputs": [],
   "source": [
    "print(prec)\n",
    "print(rec)\n",
    "print(roc_auc)"
   ]
  },
  {
   "cell_type": "code",
   "execution_count": null,
   "metadata": {},
   "outputs": [],
   "source": [
    "print(binary_acc(np.round(res[:,1]), val_target.squeeze().astype(int), 0.5))"
   ]
  },
  {
   "cell_type": "code",
   "execution_count": null,
   "metadata": {},
   "outputs": [],
   "source": [
    "res = clf.predict_proba(test_boost)\n",
    "prec = precision_score(test_target.squeeze().astype(int), np.round(res[:,1]))\n",
    "rec = recall_score(test_target.squeeze().astype(int), np.round(res[:,1]))\n",
    "roc_auc = roc_auc_score(test_target.squeeze().astype(int), np.round(res[:,1]))"
   ]
  },
  {
   "cell_type": "code",
   "execution_count": null,
   "metadata": {},
   "outputs": [],
   "source": [
    "print(prec)\n",
    "print(rec)\n",
    "print(roc_auc)"
   ]
  },
  {
   "cell_type": "code",
   "execution_count": null,
   "metadata": {},
   "outputs": [],
   "source": [
    "print(binary_acc(np.round(res[:,1]), test_target.squeeze().astype(int), 0.5))"
   ]
  },
  {
   "cell_type": "code",
   "execution_count": null,
   "metadata": {},
   "outputs": [],
   "source": [
    "clf =  GradientBoostingClassifier(learning_rate=0.1, n_estimators=100, max_depth=5)\n",
    "clf.fit(train_boost, train_target.values.ravel())"
   ]
  },
  {
   "cell_type": "code",
   "execution_count": null,
   "metadata": {},
   "outputs": [],
   "source": [
    "res = clf.predict_proba(val_boost)\n",
    "prec = precision_score(val_target.squeeze().astype(int), np.round(res[:,1]))\n",
    "rec = recall_score(val_target.squeeze().astype(int), np.round(res[:,1]))\n",
    "roc_auc = roc_auc_score(val_target.squeeze().astype(int), np.round(res[:,1]))"
   ]
  },
  {
   "cell_type": "code",
   "execution_count": null,
   "metadata": {},
   "outputs": [],
   "source": [
    "print(prec)\n",
    "print(rec)\n",
    "print(roc_auc)"
   ]
  },
  {
   "cell_type": "code",
   "execution_count": null,
   "metadata": {},
   "outputs": [],
   "source": [
    "print(binary_acc(np.round(res[:,1]), val_target.squeeze().astype(int), 0.5))"
   ]
  },
  {
   "cell_type": "code",
   "execution_count": null,
   "metadata": {},
   "outputs": [],
   "source": [
    "res = clf.predict_proba(test_boost)\n",
    "prec = precision_score(test_target.squeeze().astype(int), np.round(res[:,1]))\n",
    "rec = recall_score(test_target.squeeze().astype(int), np.round(res[:,1]))\n",
    "roc_auc = roc_auc_score(test_target.squeeze().astype(int), np.round(res[:,1]))"
   ]
  },
  {
   "cell_type": "code",
   "execution_count": null,
   "metadata": {},
   "outputs": [],
   "source": [
    "print(prec)\n",
    "print(rec)\n",
    "print(roc_auc)"
   ]
  },
  {
   "cell_type": "code",
   "execution_count": null,
   "metadata": {},
   "outputs": [],
   "source": [
    "print(binary_acc(np.round(res[:,1]), test_target.squeeze().astype(int), 0.5))"
   ]
  },
  {
   "cell_type": "code",
   "execution_count": null,
   "metadata": {},
   "outputs": [],
   "source": [
    "clf =  GradientBoostingClassifier(learning_rate=0.01, n_estimators=10000, max_depth=1)\n",
    "clf.fit(train_boost, train_target.values.ravel())"
   ]
  },
  {
   "cell_type": "code",
   "execution_count": null,
   "metadata": {},
   "outputs": [],
   "source": [
    "res = clf.predict_proba(val_boost)\n",
    "prec = precision_score(val_target.squeeze().astype(int), np.round(res[:,1]))\n",
    "rec = recall_score(val_target.squeeze().astype(int), np.round(res[:,1]))\n",
    "roc_auc = roc_auc_score(val_target.squeeze().astype(int), np.round(res[:,1]))"
   ]
  },
  {
   "cell_type": "code",
   "execution_count": null,
   "metadata": {},
   "outputs": [],
   "source": [
    "print(prec)\n",
    "print(rec)\n",
    "print(roc_auc)"
   ]
  },
  {
   "cell_type": "code",
   "execution_count": null,
   "metadata": {},
   "outputs": [],
   "source": [
    "print(binary_acc(np.round(res[:,1]), val_target.squeeze().astype(int), 0.5))"
   ]
  },
  {
   "cell_type": "code",
   "execution_count": null,
   "metadata": {},
   "outputs": [],
   "source": [
    "res = clf.predict_proba(test_boost)\n",
    "prec = precision_score(test_target.squeeze().astype(int), np.round(res[:,1]))\n",
    "rec = recall_score(test_target.squeeze().astype(int), np.round(res[:,1]))\n",
    "roc_auc = roc_auc_score(test_target.squeeze().astype(int), np.round(res[:,1]))"
   ]
  },
  {
   "cell_type": "code",
   "execution_count": null,
   "metadata": {},
   "outputs": [],
   "source": [
    "print(prec)\n",
    "print(rec)\n",
    "print(roc_auc)"
   ]
  },
  {
   "cell_type": "code",
   "execution_count": null,
   "metadata": {},
   "outputs": [],
   "source": [
    "print(binary_acc(np.round(res[:,1]), test_target.squeeze().astype(int), 0.5))"
   ]
  },
  {
   "cell_type": "code",
   "execution_count": null,
   "metadata": {},
   "outputs": [],
   "source": [
    "clf =  GradientBoostingClassifier(learning_rate=0.01, n_estimators=10000, max_depth=2)\n",
    "clf.fit(train_boost, train_target.values.ravel())"
   ]
  },
  {
   "cell_type": "code",
   "execution_count": null,
   "metadata": {},
   "outputs": [],
   "source": [
    "res = clf.predict_proba(val_boost)\n",
    "prec = precision_score(val_target.squeeze().astype(int), np.round(res[:,1]))\n",
    "rec = recall_score(val_target.squeeze().astype(int), np.round(res[:,1]))\n",
    "roc_auc = roc_auc_score(val_target.squeeze().astype(int), np.round(res[:,1]))"
   ]
  },
  {
   "cell_type": "code",
   "execution_count": null,
   "metadata": {},
   "outputs": [],
   "source": [
    "print(prec)\n",
    "print(rec)\n",
    "print(roc_auc)"
   ]
  },
  {
   "cell_type": "code",
   "execution_count": null,
   "metadata": {},
   "outputs": [],
   "source": [
    "print(binary_acc(np.round(res[:,1]), val_target.squeeze().astype(int), 0.5))"
   ]
  },
  {
   "cell_type": "code",
   "execution_count": null,
   "metadata": {},
   "outputs": [],
   "source": [
    "res = clf.predict_proba(test_boost)\n",
    "prec = precision_score(test_target.squeeze().astype(int), np.round(res[:,1]))\n",
    "rec = recall_score(test_target.squeeze().astype(int), np.round(res[:,1]))\n",
    "roc_auc = roc_auc_score(test_target.squeeze().astype(int), np.round(res[:,1]))"
   ]
  },
  {
   "cell_type": "code",
   "execution_count": null,
   "metadata": {},
   "outputs": [],
   "source": [
    "print(prec)\n",
    "print(rec)\n",
    "print(roc_auc)"
   ]
  },
  {
   "cell_type": "code",
   "execution_count": null,
   "metadata": {},
   "outputs": [],
   "source": [
    "print(binary_acc(np.round(res[:,1]), test_target.squeeze().astype(int), 0.5))"
   ]
  },
  {
   "cell_type": "code",
   "execution_count": null,
   "metadata": {},
   "outputs": [],
   "source": []
  }
 ],
 "metadata": {
  "kernelspec": {
   "display_name": "Python 3",
   "language": "python",
   "name": "python3"
  },
  "language_info": {
   "codemirror_mode": {
    "name": "ipython",
    "version": 3
   },
   "file_extension": ".py",
   "mimetype": "text/x-python",
   "name": "python",
   "nbconvert_exporter": "python",
   "pygments_lexer": "ipython3",
   "version": "3.7.6"
  }
 },
 "nbformat": 4,
 "nbformat_minor": 4
}
